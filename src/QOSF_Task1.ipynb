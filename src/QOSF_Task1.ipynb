{
 "cells": [
  {
   "cell_type": "markdown",
   "id": "d1329af4-35ee-4843-8d59-740e231a5cda",
   "metadata": {
    "tags": []
   },
   "source": [
    "# Task 1: Find the largest number"
   ]
  },
  {
   "cell_type": "markdown",
   "id": "875b9592-3350-463f-afb6-9a9e8081f749",
   "metadata": {
    "tags": []
   },
   "source": [
    "## Problem Statement\n",
    "You have two integers, either positive or negative, and the challenge is to generate a quantum algorithm that returns which is the larger number. Consider an appropriate number of qubits and explain why your proposal is valid for all kinds of numbers in case."
   ]
  },
  {
   "cell_type": "markdown",
   "id": "85f15af8-8c3d-4e2e-9bcf-cf23d45f4ed4",
   "metadata": {},
   "source": [
    "## Solution\n",
    "To compare two number using a quantum circuit we can use Quantum Bit String Comparator (QBSC)."
   ]
  },
  {
   "attachments": {},
   "cell_type": "markdown",
   "id": "0b027709-4268-48da-9ab1-b785f96ccc5a",
   "metadata": {
    "tags": []
   },
   "source": [
    "### Let's first understand the concept and maths behind the Quantum Bit String Comparator.\n",
    "\n",
    "For understanding **Quantum Bit String Comporator**, first we have to understand  how **Quantum bit Comparator** works. \n",
    "\n",
    "#### Quantum Bit Comparator\n",
    "Let `Uc` represent a circuit which takes 4 qubits(|a〉, |b〉, |x〉, |y〉) as n input (first two qubits are the qubits to be compared and other two qubits are ancillia qubits to store the result), compares first two qubit and flips the third qubit if first qubit is larger else it flips the fourth qubit.\n",
    "\n",
    "This can easily be done by contructing the circuit for `Uc` as explained below:\n",
    "- Apply `X` gate to |b〉 followed by applying `CCNOT` gate to |x〉 with |a〉 and |b〉 as control. This will flip |x〉 if |a〉 is greater than |b〉, i.e, when |a〉 = |1〉 and |b〉 = |0〉.\n",
    "- Now bring back |b〉 to original state by applying `X` gate.\n",
    "- Apply `X` gate to |a〉 followed by applying `CCNOT` gate to |y〉 with |a〉 and |b〉 as control. This will flip |y〉 if |b〉 is greater than |a〉, i.e, when |a〉 = |0〉 and |b〉 = |1〉.\n",
    "- Now bring back |a〉 to original state by applying `X` gate.\n",
    "<br>\n",
    "<br>\n",
    "The Circuit for Quantum Bit Comparator `Uc`:\n",
    "<img src='../assets/QuantumBitComparatorCircuit.png' alt='Quantum Bit Comparator Circuit' title='Quantum Bit Comparator Circuit' />\n",
    "<br>\n",
    "The Truth table for above circuit can be given as:\n",
    "\n",
    "| a | b | ā | ƀ | x = a ^ ƀ | y = ā ^ b |\n",
    "|:-:|:-:|:-:|:-:|:---------:|:---------:|\n",
    "| 0 | 0 | 1 | 1 | 0         | 0         |\n",
    "| 0 | 1 | 1 | 0 | 0         | 1         |\n",
    "| 1 | 0 | 0 | 1 | 1         | 0         |\n",
    "| 1 | 1 | 0 | 0 | 0         | 0         |\n",
    "\n",
    "*If a = b then x = y = 0, if a > b then x = 1 and y = 0, and if a < b then x = 0 and y = 1.*\n",
    "\n",
    "#### Quantum Bit String Comparator\n",
    "Let's consider two n-partite of qubits quantum state |a〉|b〉. Where |a〉 represents the first number, and |b〉 represents the second number we have to compare. Then the quantum bit string comparator, a unitary evolution `Ucmp` will work as:\n",
    "\n",
    "**U<sub>cmp</sub>|a〉|b〉|0<sup>⊗m</sup>〉|0〉|0〉 = |a〉|b〉|ψ〉|x〉|y〉**\n",
    "\n",
    "Here, there are m+2 ancillas at the input, |ψ〉 is a m qubit output state that has not important information and the last two qubits carry the comparison information. This evolution by application of `Ucmp` can be done by using `Uc` for each qubit in |a〉 and |b〉 and then combining the result using one `Negative CCNOT` gate and two `CCNOT` gates. This circuit can compare two binary strings (having the same number of bits) identifying, by the measurement of two qubits, if they are equal or, if they are different, which of them is the largest (or the lowest).\n",
    "<br>\n",
    "<br>\n",
    "The Circuit for Quantum Bit String Comparator `Ucmp` for comparison of two strings of three qubits: |a〉=|a1〉|a2〉|a3〉 and |b〉=|b1〉|b2〉|b3〉:\n",
    "<img src='../assets/QuantumBitStringComparatorCircuitFor3QubitNumber.png' alt='Quantum Bit String Comparator Circuit' title='Quantum Bit String Comparator Circuit' />\n",
    "<br>\n",
    "This quantum circuit compares the two numbers with the length of bitstring ( number of qubits) = 3, but the generalization to any number of qubits is straightforward.  The circuit is able to compare two binary strings (having the same number of bits) identifying, by the measurement of two qubits, if they are equal or, if they are different, which of them is the largest (or the lowest). The circuit compares the strings bit-to-bit from the left (most significant bit) to the right (less significant bit).  After the measurement of the outputs (O1 and O2), if O1=1 and O2=0 then a>b; if O1=0 and O2=1 then a<b; at last, if O1=0 and O2=0 then a=b."
   ]
  },
  {
   "cell_type": "markdown",
   "id": "99b049a9-0a21-4fc8-a16f-9ccdbc4d5c2e",
   "metadata": {},
   "source": [
    "### Algorithm of code\n",
    "\n",
    "Since our quantum circuit only works for binary strings having the same number of bits we directly return output for the inputs with numbers having different sign or different length of bitsring.\n",
    "\n",
    "**Case 1: When input numbers are of opposite sign.** \n",
    "<br> \n",
    "If numbers have inputs with different sign then we return the positive number.\n",
    "\n",
    "**Case 2: When inputs numbers have same sign but different length of bitstring.** \n",
    "<br>\n",
    "> - If both input numbers are positive return the number with greater length of bitstring.\n",
    "> - If both input numbers are negative return the number whose absolute value have greater length of bitstring.\n",
    "\n",
    "**Case 3: When inputs numbers have same sign and same length of bitstring. Apply Quantum Bitstring Operator.**\n",
    "<br>\n",
    "*Step 1:* Determine the number of qubits needed to represent the inputs. <br><br> \n",
    "This will be equal to the length of bitstring of anyone input number - 2. We subtract 2 from the length of bitstring as bitsrings starts with '0b' followed by binary equivalent of the number in python. So we exclude '0b' in all the steps.\n",
    "\n",
    "*Step 2:* Create the quantum circuit.\n",
    "> - Since for comparision of two n-bit numbers, we need to pass 4 qubits to each Uc and need (n-1) qubits to combine their results. So in total we need 4*n + (n - 1) qubits where n represents number of bits in bitstring.\n",
    "> - We will require two clasical bits to store the result.\n",
    "\n",
    "*Step 3:* Encode the inputs into the quantum states. \n",
    "<br><br> \n",
    "As shown in the circuit for Quantum Bit String Comparator `Ucmp` we devide the number of qubits in a set of four, each set passing through `Uc` and seperated by a qubit from each other.\n",
    "<br>\n",
    "First two qubits of each set store the bits of two inputs at same position in their bitstring. next two qubits of each sets are to store output 'x' and 'y' of their set. The qubit seperating each set is for combining the comparision result of each bit.\n",
    "\n",
    "*Step 4:* Apply Uc circuit for each bit at the same poisition in bitstrings of input numbers.\n",
    "<br><br>\n",
    "For each set of 4 qubits:\n",
    "> - Apply X gate to the second qubit in the set (qubit storing bit of second number).\n",
    "> - Apply CCNOT gate to the third qubit in the set with first and second qubit as control.\n",
    "> - Bring back the second qubit to original state by applying X gate.\n",
    "> - Apply X gate to the first qubit in the set (qubit storing bit of first number).\n",
    "> - Apply CCNOT gate to the fourth qubit in the set with first and second qubit as control.\n",
    "> - Bring back the first qubit to original state by applying X gate.\n",
    "\n",
    "*Step 5:* Apply C1 for each set of four qubits passed into 'Uc'.\n",
    "<br><br>\n",
    "Apply Negative CCNOT gate(C1) to the qubit seperating each set of four qubits passed into `Uc` with third and fourth qubits (,i.e, qubits storing the result of bit comparision) of previous set as control.\n",
    "\n",
    "*Step 6:* Apply C2 and C3 for each set of four qubits passed into 'Uc'.\n",
    "<br><br>\n",
    "Starting from the last set of of four qubits passed into 'Uc':\n",
    "> - Apply CCNOT gate(C2) to the third qubit of the previous set with the thrid qubit of the current set and the qubit seperating the two sets as control.\n",
    "> - Apply CCNOT gate(C3) to the fourth qubit of the previous set with the fourth qubit of the current set and the qubit seperating the two sets as control.\n",
    "\n",
    "*Step 7:* Measure the result of the circuit stored in the third and the fourth qubits of the first set as |O1〉 and |O2〉.\n",
    "\n",
    "*Step 8:* Simulate the circuit and get the result. The final result will be one of these bitstring in the format of 'O1 O2': '00', '01', or '10'.\n",
    "\n",
    "*Step 9:* Return the largest number based on the result.\n",
    "<br><br>\n",
    "> - If input numbers are positive: <br> If O1=1 and O2=0 then return a; if O1=0 and O2=1 then return b; at last, if O1=0 and O2=0 then return anyone of the input as both are equal.\n",
    "> - If input numbers are negative: <br> If O1=1 and O2=0 then return b; if O1=0 and O2=1 then return a; at last, if O1=0 and O2=0 then return anyone of the input as both are equal."
   ]
  },
  {
   "attachments": {},
   "cell_type": "markdown",
   "id": "7ed362f8",
   "metadata": {},
   "source": [
    "### References:\n",
    "- [Deutsch, David, and Richard Jozsa. \"Rapid solution of problems by quantum computation.\" Proceedings of the Royal Society of London. Series A: Mathematical and Physical Sciences 439.1907 (1992): 553-558](https://www.isical.ac.in/~rcbose/internship/lectures2016/rt08deutschjozsa.pdf)\n",
    "- [Grover, Lov K. , \"A fast quantum mechanical algorithm for database search\", Proceedings of the 28th Annual ACM Symposium on the Theory of Computing (1996)](https://arxiv.org/abs/quant-ph/9605043)\n",
    "- [Quantum bit string comparator: Circuits and applications by David Sena Oliveira and Rubens Ramos](https://www.researchgate.net/publication/228574906_Quantum_bit_string_comparator_Circuits_and_applications)"
   ]
  },
  {
   "attachments": {},
   "cell_type": "markdown",
   "id": "f57f92e8",
   "metadata": {},
   "source": [
    "### Code for the solution of the task"
   ]
  },
  {
   "cell_type": "code",
   "execution_count": 14,
   "id": "e99be0bc-6495-4762-b6b4-3613a4a59c99",
   "metadata": {},
   "outputs": [],
   "source": [
    "from qiskit import QuantumCircuit, ClassicalRegister, QuantumRegister\n",
    "from qiskit import Aer, execute\n",
    "\n",
    "def find_the_largest_number(a, b):\n",
    "    # CASE 1: If numbers have opposite signs then obviously the positive number will be larger\n",
    "    if a > 0 and b < 0:\n",
    "        return a\n",
    "    elif a < 0 and b > 0:\n",
    "        return b\n",
    "    \n",
    "    # CASE 2: If Number of bits in binary representation for one number is greater than other then its obvious that the number with larger bitstring length is larger. So return the largest among them.    \n",
    "    if a > 0 and b > 0:\n",
    "        if len(bin(a)) > len(bin(b)):\n",
    "            return a\n",
    "        elif len(bin(a)) < len(bin(b)):\n",
    "            return b\n",
    "    elif a < 0 and b < 0:\n",
    "        if len(bin(abs(a))) > len(bin(abs(b))):\n",
    "            return b\n",
    "        elif len(bin(abs(a))) < len(bin(abs(b))):\n",
    "            return a\n",
    "    \n",
    "    # CASE 3: If the numbers have bitstring with same length then proceed further.\n",
    "\n",
    "    # Step 1: Determine the number of qubits needed to represent the inputs\n",
    "    n = len(bin(abs(a))) - 2 # Subtracting 2 from the length as first two characters of bitstring are '0b' indiacting it to be a binary number.\n",
    "\n",
    "    # Step 2: Create the quantum circuit\n",
    "    t = 4*n + (n - 1) # Total number of qubits required: Since for comparision of two n-bit numbers, we need to pass 4 qubits to each Uc and need (n-1) qubits to combine their results.\n",
    "    q = QuantumRegister(t, 'q') \n",
    "    c = ClassicalRegister(2, 'c') # To store the measurement outputs of |O1> and |O2>.\n",
    "    circuit = QuantumCircuit(q, c)\n",
    "\n",
    "    # Step 3: Encode the inputs into the quantum states\n",
    "    j = 0\n",
    "    for i in range(n):\n",
    "        if ((bin(abs(a)))[i + 2] == '1'): # 'i + 2' is done to skip '0b' iin the bitstring.\n",
    "            circuit.x(q[j])\n",
    "        if ((bin(abs(b)))[i + 2] == '1'): # 'i + 2' is done to skip '0b' iin the bitstring.\n",
    "            circuit.x(q[j+1])\n",
    "        j = j + 5 # jump to next set of qubits to be passed into 'Uc'\n",
    "\n",
    "    circuit.barrier()\n",
    "\n",
    "    # Step 4: Apply Uc circuit for each bit at the same poisition in bitstrings of input numbers.\n",
    "    for i in range(0, t, 5):\n",
    "        circuit.x(q[i+1])\n",
    "        circuit.ccx(q[i], q[i+1], q[i+2])\n",
    "        circuit.x(q[i])\n",
    "        circuit.x(q[i+1])\n",
    "        circuit.ccx(q[i], q[i+1], q[i+3])\n",
    "        circuit.x(q[i])\n",
    "\n",
    "    circuit.barrier()\n",
    "\n",
    "    # Step 5: Apply C1 for each set of four qubits passed into 'Uc'.\n",
    "    for i in range(0, t - 4, 5):\n",
    "        circuit.x([i+2, i+3])\n",
    "        circuit.ccx(q[i+2], q[i+3], q[i+4])\n",
    "        circuit.x([i+2, i+3])\n",
    "\n",
    "        circuit.barrier()\n",
    "\n",
    "    # Step 6: Apply C2 and C3 for each set of four qubits passed into 'Uc'.\n",
    "    for i in range(t-1, 7, -5):\n",
    "        circuit.ccx(q[i - 1], q[i-4], q[i-6])\n",
    "        circuit.ccx(q[i], q[i-4], q[i-5])\n",
    "\n",
    "\n",
    "    circuit.barrier()\n",
    "\n",
    "    # Step 7: Measure the result of the circuit stored in the third and the fourth qubits of the first set as |O1〉 and |O2〉.\n",
    "    circuit.measure([2, 3] , [0, 1])\n",
    "\n",
    "    # Step 8: Simulate the circuit and get the result. The final result will be one of these bitstring in the format of 'O1 O2': '00', '01', or '10'.\n",
    "    simulator = Aer.get_backend('qasm_simulator')\n",
    "    result = execute(circuit, simulator).result()\n",
    "    counts = result.get_counts(circuit)\n",
    "    result = list(counts.keys())[0]\n",
    "    \n",
    "    # Step 9: Return the largest number based on the result.\n",
    "    if a >= 0 and b >= 0:\n",
    "        if result[0] == '1' and result[1] == '0':\n",
    "            return b\n",
    "        elif result[0] == '0' and result[1] == '1':\n",
    "            return a\n",
    "        elif result[0] == '0' and result[1] == '0': # when both a and b are equal then return anyone of them\n",
    "            return a\n",
    "    elif a < 0 and b < 0: # If the numbers are negative then flip the result\n",
    "        if result[0] == '1' and result[1] == '0':\n",
    "            return a\n",
    "        elif result[0] == '0' and result[1] == '1':\n",
    "            return b\n",
    "        elif result[0] == '0' and result[1] == '0': # when both a and b are equal then return anyone of them\n",
    "            return a"
   ]
  },
  {
   "cell_type": "code",
   "execution_count": 15,
   "id": "f94b2471-e920-4a06-afeb-2df4a94b87fe",
   "metadata": {},
   "outputs": [
    {
     "data": {
      "text/plain": [
       "3"
      ]
     },
     "execution_count": 15,
     "metadata": {},
     "output_type": "execute_result"
    }
   ],
   "source": [
    "find_the_largest_number(3, 2)"
   ]
  }
 ],
 "metadata": {
  "kernelspec": {
   "display_name": "Python 3",
   "language": "python",
   "name": "python3"
  },
  "language_info": {
   "codemirror_mode": {
    "name": "ipython",
    "version": 3
   },
   "file_extension": ".py",
   "mimetype": "text/x-python",
   "name": "python",
   "nbconvert_exporter": "python",
   "pygments_lexer": "ipython3",
   "version": "3.11.0"
  },
  "vscode": {
   "interpreter": {
    "hash": "71ce537fa48a2e51cbb4dc3dea93889f508f8749e73a2fca6e93d056afcdd889"
   }
  },
  "widgets": {
   "application/vnd.jupyter.widget-state+json": {
    "state": {},
    "version_major": 2,
    "version_minor": 0
   }
  }
 },
 "nbformat": 4,
 "nbformat_minor": 5
}
